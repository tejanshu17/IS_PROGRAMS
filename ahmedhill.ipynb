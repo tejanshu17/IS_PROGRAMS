{
  "nbformat": 4,
  "nbformat_minor": 0,
  "metadata": {
    "colab": {
      "name": "ahmedhill.ipynb",
      "provenance": []
    },
    "kernelspec": {
      "name": "python3",
      "display_name": "Python 3"
    },
    "language_info": {
      "name": "python"
    }
  },
  "cells": [
    {
      "cell_type": "code",
      "execution_count": null,
      "metadata": {
        "colab": {
          "base_uri": "https://localhost:8080/"
        },
        "id": "agzBEuPqQSaz",
        "outputId": "fcd128cf-5950-4ab5-9e60-00ecc6508d7d"
      },
      "outputs": [
        {
          "output_type": "stream",
          "name": "stdout",
          "text": [
            "[[ 4.  9. 15.]\n",
            " [15. 17.  6.]\n",
            " [24.  0. 17.]]\n",
            "[[15.  0. 24.]\n",
            " [12. 14. 17.]\n",
            " [ 4. 12. 14.]\n",
            " [13.  4. 24.]]\n"
          ]
        }
      ],
      "source": [
        "import numpy as np\n",
        "\n",
        "def mulInverse(a,b):\n",
        "    ri = [b,a]\n",
        "    qi = [0,0]\n",
        "    xi = [1,0]\n",
        "    yi = [0,1]\n",
        "    i = 2\n",
        "    while True:\n",
        "        ri.append(ri[i-2]%ri[i-1])\n",
        "        qi.append(ri[i-2]//ri[i-1])\n",
        "        xi.append(xi[i-2] - qi[i]*xi[i-1])\n",
        "        yi.append(yi[i-2] - qi[i]*yi[i-1])\n",
        "\n",
        "        if ri[i] == 1:\n",
        "            break\n",
        "        i += 1\n",
        "    XI = (b+xi[-1]) if (xi[-1]<0) else (xi[-1])\n",
        "    YI = (b+yi[-1]) if (yi[-1]<0) else (yi[-1])\n",
        "    return YI\n",
        "\n",
        "PT = np.array([[15,0,24],[12,14,17],[4,12,14],[13,4,24]])\n",
        "Key = np.array([[17,17,5],[21,18,21],[2,2,19]])\n",
        "CT = np.dot(PT,Key) % 26\n",
        "\n",
        "\n",
        "### we need to find Key Inverse so Key Inverse = inverse of det(key) * adj(k)\n",
        "\n",
        "# finding determinant of Key\n",
        "detOfKey = np.linalg.det(Key) % 26 if np.linalg.det(Key) < 0 else np.linalg.det(Key)\n",
        "\n",
        "# Finding det of Key Inverse\n",
        "detOfKeyInverse = mulInverse(detOfKey, 26)\n",
        "\n",
        "\n",
        "# Now Finding Adjoint of Key \n",
        "adjKey = np.linalg.det(Key) * np.linalg.inv(Key)\n",
        "adjKey = adjKey.round() % 26\n",
        "\n",
        "# Now finally Key Inverse = detKeyInverse * adjKey\n",
        "keyInverse = (detOfKeyInverse * adjKey) % 26\n",
        "#print(keyInverse)\n",
        "\n",
        "### Finally multiply Cipher Text with Key Inverse Matrix\n",
        "DT = np.dot(CT, keyInverse) % 26\n",
        "print(DT)"
      ]
    }
  ]
}