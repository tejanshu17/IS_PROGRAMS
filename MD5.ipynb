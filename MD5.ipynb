{
  "nbformat": 4,
  "nbformat_minor": 0,
  "metadata": {
    "colab": {
      "name": "MD5.ipynb",
      "provenance": []
    },
    "kernelspec": {
      "name": "python3",
      "display_name": "Python 3"
    },
    "language_info": {
      "name": "python"
    }
  },
  "cells": [
    {
      "cell_type": "code",
      "source": [
        "import hashlib\n",
        "result = hashlib.md5(b'tejanshumistry')\n",
        "print(\"encrypted data is \")\n",
        "print(result.digest())\n",
        "print(result.hexdigest())"
      ],
      "metadata": {
        "colab": {
          "base_uri": "https://localhost:8080/"
        },
        "id": "GK5CH7DNrROf",
        "outputId": "2da31d96-fc60-4440-9623-dc5be892cb3e"
      },
      "execution_count": 20,
      "outputs": [
        {
          "output_type": "stream",
          "name": "stdout",
          "text": [
            "encrypted data is \n",
            "b'Y/p\\xf5\\xea\\xef\\xf46\\x03\\x9f\\xff\\xbftM\\x0cr'\n",
            "592f70f5eaeff436039fffbf744d0c72\n"
          ]
        }
      ]
    }
  ]
}