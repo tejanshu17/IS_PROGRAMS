{
  "nbformat": 4,
  "nbformat_minor": 0,
  "metadata": {
    "colab": {
      "name": "DES.ipynb",
      "provenance": []
    },
    "kernelspec": {
      "name": "python3",
      "display_name": "Python 3"
    },
    "language_info": {
      "name": "python"
    }
  },
  "cells": [
    {
      "cell_type": "code",
      "execution_count": 1,
      "metadata": {
        "colab": {
          "base_uri": "https://localhost:8080/"
        },
        "id": "mqnRijjBUpNw",
        "outputId": "9848dcb1-345f-428c-d896-141f32b42f81"
      },
      "outputs": [
        {
          "output_type": "stream",
          "name": "stdout",
          "text": [
            "Looking in indexes: https://pypi.org/simple, https://us-python.pkg.dev/colab-wheels/public/simple/\n",
            "Collecting des\n",
            "  Downloading des-1.0.6.tar.gz (6.3 kB)\n",
            "Building wheels for collected packages: des\n",
            "  Building wheel for des (setup.py) ... \u001b[?25l\u001b[?25hdone\n",
            "  Created wheel for des: filename=des-1.0.6-py3-none-any.whl size=7357 sha256=314af03be3d89a08842c1ddf24426a0e2c85b2cdf9238a813f5362c417647da1\n",
            "  Stored in directory: /root/.cache/pip/wheels/e5/42/8a/966b0c8bcd6260de27068154b0b44d872d368a24aa2be819b4\n",
            "Successfully built des\n",
            "Installing collected packages: des\n",
            "Successfully installed des-1.0.6\n"
          ]
        }
      ],
      "source": [
        "pip install des"
      ]
    },
    {
      "cell_type": "code",
      "source": [
        "from des import DesKey\n",
        "key0 = DesKey(b\"somekeys\")\n",
        "key0.encrypt(b\"tejanshu\",padding=True)\n"
      ],
      "metadata": {
        "colab": {
          "base_uri": "https://localhost:8080/"
        },
        "id": "fjILSBDhU4bi",
        "outputId": "5062ec25-e9a3-49c4-a88a-0019552df9b9"
      },
      "execution_count": 3,
      "outputs": [
        {
          "output_type": "execute_result",
          "data": {
            "text/plain": [
              "b'V\\x05UjT\\x0c\\xaan\\x82{\\x92N\\xa5\\xba\\xcb\\x88'"
            ]
          },
          "metadata": {},
          "execution_count": 3
        }
      ]
    },
    {
      "cell_type": "code",
      "source": [
        "key0.decrypt(b'V\\x05UjT\\x0c\\xaan\\x82{\\x92N\\xa5\\xba\\xcb\\x88',padding=True)"
      ],
      "metadata": {
        "colab": {
          "base_uri": "https://localhost:8080/"
        },
        "id": "rk9OWKUIVYEK",
        "outputId": "65952d16-5590-41b2-ae2a-a54413585fd4"
      },
      "execution_count": 4,
      "outputs": [
        {
          "output_type": "execute_result",
          "data": {
            "text/plain": [
              "b'tejanshu'"
            ]
          },
          "metadata": {},
          "execution_count": 4
        }
      ]
    }
  ]
}